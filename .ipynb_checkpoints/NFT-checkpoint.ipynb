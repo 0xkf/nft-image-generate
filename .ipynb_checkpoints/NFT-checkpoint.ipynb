{
 "cells": [
  {
   "cell_type": "code",
   "execution_count": 79,
   "id": "cfa6c514",
   "metadata": {},
   "outputs": [],
   "source": [
    "# Import required libraries\n",
    "from PIL import Image\n",
    "from matplotlib.pyplot import imshow\n",
    "import pandas as pd\n",
    "import numpy as np\n",
    "import time\n",
    "import os\n",
    "import random"
   ]
  },
  {
   "cell_type": "code",
   "execution_count": 36,
   "id": "7bfeec33",
   "metadata": {},
   "outputs": [],
   "source": [
    "# This is the main config file that needs to be modified.\n",
    "\n",
    "CONFIG = [\n",
    "    {\n",
    "        'id': 1,\n",
    "        'name': 'background',\n",
    "        'directory': 'Background',\n",
    "        'required': True,\n",
    "        'rarity_weights': 'random',\n",
    "    },\n",
    "    {\n",
    "        'id': 2,\n",
    "        'name': 'body',\n",
    "        'directory': 'Body',\n",
    "        'required': True,\n",
    "        'rarity_weights': [10, 5, 20, 10, 3, 20, 10, 3, 5, 5],\n",
    "    },\n",
    "    {\n",
    "        'id': 3,\n",
    "        'name': 'eyes',\n",
    "        'directory': 'Expressions',\n",
    "        'required': True,\n",
    "        'rarity_weights': [30, 0.1, 25, 90],\n",
    "    },\n",
    "    {\n",
    "        'id': 4,\n",
    "        'name': 'head_gear',\n",
    "        'directory': 'Head Gear',\n",
    "        'required': False,\n",
    "        'rarity_weights': [50, 1, 10, 20, 20, 20, 25, 10, 5, 25],\n",
    "    },\n",
    "    {\n",
    "        'id': 5,\n",
    "        'name': 'clothes',\n",
    "        'directory': 'Shirt',\n",
    "        'required': False,\n",
    "        'rarity_weights': [50, 5, 20, 20, 5, 10, 20, 20, 5, 20, 20, 15],\n",
    "    },\n",
    "    {\n",
    "        'id': 6,\n",
    "        'name': 'held_item',\n",
    "        'directory': 'Misc',\n",
    "        'required': True,\n",
    "        'rarity_weights': [10, 10, 10, 10, 10, 0.1],\n",
    "    },\n",
    "    {\n",
    "        'id': 7,\n",
    "        'name': 'hands',\n",
    "        'directory': 'Hands',\n",
    "        'required': True,\n",
    "        'rarity_weights': None,\n",
    "    },\n",
    "    {\n",
    "        'id': 8,\n",
    "        'name': 'wristband',\n",
    "        'directory': 'Wristband',\n",
    "        'required': False,\n",
    "        'rarity_weights': [100, 5, 5, 5, 5, 5]\n",
    "    }\n",
    "    \n",
    "]"
   ]
  },
  {
   "cell_type": "code",
   "execution_count": 50,
   "id": "87922beb",
   "metadata": {},
   "outputs": [],
   "source": [
    "def generate_single_image(filepaths, output_filename=None):\n",
    "    \"\"\"\n",
    "    Generates a single image given an array of layers.\n",
    "    \n",
    "    Parameters\n",
    "    ---\n",
    "    filepaths: An array of strings representing paths to layer images\n",
    "    output_filename: The name of the final output image. If None, the name is set to the current timestamp\n",
    "    \n",
    "    Output\n",
    "    ---\n",
    "    Returns a PNG image in the output/single_images folder\n",
    "    \"\"\"\n",
    "    \n",
    "    bg = Image.open('assets/' + filepaths[0])\n",
    "    \n",
    "    for filepath in filepaths[1:]:\n",
    "        img = Image.open('assets/' + filepath)\n",
    "        bg.paste(img, (0,0), img)\n",
    "    \n",
    "    \n",
    "    if not os.path.exists(os.path.join('output', 'single_images')):\n",
    "        os.makedirs(os.path.join('output', 'single_images'))\n",
    "    \n",
    "    if output_filename is not None:\n",
    "        bg.save(os.path.join('output', 'single_images', output_filename + '.png'))\n",
    "    else:\n",
    "        bg.save(os.path.join('output', 'single_images', str(int(time.time())) + '.png'))"
   ]
  },
  {
   "cell_type": "code",
   "execution_count": 51,
   "id": "fbf70307",
   "metadata": {},
   "outputs": [],
   "source": [
    "# Generate a single image with all possible traits\n",
    "generate_single_image(['Background/green.png', \n",
    "                       'Body/brown.png', \n",
    "                       'Expressions/standard.png',\n",
    "                       'Head Gear/std_crown.png',\n",
    "                       'Shirt/blue_dot.png',\n",
    "                       'Misc/pokeball.png',\n",
    "                       'Hands/standard.png',\n",
    "                       'Wristband/yellow.png'])"
   ]
  },
  {
   "cell_type": "code",
   "execution_count": 52,
   "id": "5255fa55",
   "metadata": {},
   "outputs": [],
   "source": [
    "# Weight rarities and return a numpy array\n",
    "def get_weighted_rarities(arr):\n",
    "    \"\"\"\n",
    "    Take an array of arbitrary weights and normalize them.\n",
    "    \n",
    "    Parameters\n",
    "    ---\n",
    "    arr: An array of weights\n",
    "    \n",
    "    Returns\n",
    "    ---\n",
    "    np.array: A numpy array of weights that sum up to 1\n",
    "    \"\"\"\n",
    "    return np.array(arr)/ sum(arr)"
   ]
  },
  {
   "cell_type": "code",
   "execution_count": 47,
   "id": "55a3efd0",
   "metadata": {},
   "outputs": [
    {
     "data": {
      "text/plain": [
       "['single_images', '.DS_Store']"
      ]
     },
     "execution_count": 47,
     "metadata": {},
     "output_type": "execute_result"
    }
   ],
   "source": [
    "os.listdir('output')"
   ]
  },
  {
   "cell_type": "code",
   "execution_count": 82,
   "id": "08f0e49d",
   "metadata": {},
   "outputs": [
    {
     "data": {
      "text/plain": [
       "0.24546660549595778"
      ]
     },
     "execution_count": 82,
     "metadata": {},
     "output_type": "execute_result"
    }
   ],
   "source": [
    "random.random()"
   ]
  },
  {
   "cell_type": "code",
   "execution_count": 88,
   "id": "903e0b99",
   "metadata": {},
   "outputs": [],
   "source": [
    "# Parse the configuration file and make sure it's valid\n",
    "def parse_config():\n",
    "    \n",
    "    assets_path = 'assets'\n",
    "    for layer in CONFIG:\n",
    "        layer_path = os.path.join(assets_path, layer['directory'])\n",
    "        print(layer['name'])\n",
    "        \n",
    "        # Get trait array in sorted order\n",
    "        traits = sorted([trait for trait in os.listdir(layer_path) if trait[0] != '.'])\n",
    "        \n",
    "        if layer['rarity_weights'] is None:\n",
    "            rarities = [1 for x in traits]\n",
    "        elif layer['rarity_weights'] == 'random':\n",
    "            rarities = [random.random() for x in traits]\n",
    "        elif type(layer['rarity_weights'] == 'list'):\n",
    "            assert(len(traits) == len(layer['rarity_weights']))\n",
    "            rarities = layer['rarity_weights']\n",
    "        else:\n",
    "            raise ValueError(\"Rarity weights is invalid\")\n",
    "        \n",
    "        rarities = get_weighted_rarities(rarities)\n",
    "        print(rarities)"
   ]
  },
  {
   "cell_type": "code",
   "execution_count": 89,
   "id": "1c25f919",
   "metadata": {},
   "outputs": [
    {
     "name": "stdout",
     "output_type": "stream",
     "text": [
      "background\n",
      "[0.11332565 0.10210977 0.13356914 0.04477524 0.06547066 0.24695345\n",
      " 0.21392578 0.07987031]\n",
      "body\n",
      "[0.10989011 0.05494505 0.21978022 0.10989011 0.03296703 0.21978022\n",
      " 0.10989011 0.03296703 0.05494505 0.05494505]\n",
      "eyes\n",
      "[0.20675396 0.00068918 0.17229497 0.62026189]\n",
      "head_gear\n"
     ]
    },
    {
     "ename": "AssertionError",
     "evalue": "",
     "output_type": "error",
     "traceback": [
      "\u001b[0;31m---------------------------------------------------------------------------\u001b[0m",
      "\u001b[0;31mAssertionError\u001b[0m                            Traceback (most recent call last)",
      "\u001b[0;32m<ipython-input-89-040f1dcbf939>\u001b[0m in \u001b[0;36m<module>\u001b[0;34m\u001b[0m\n\u001b[0;32m----> 1\u001b[0;31m \u001b[0mparse_config\u001b[0m\u001b[0;34m(\u001b[0m\u001b[0;34m)\u001b[0m\u001b[0;34m\u001b[0m\u001b[0;34m\u001b[0m\u001b[0m\n\u001b[0m",
      "\u001b[0;32m<ipython-input-88-38f4d4791eb8>\u001b[0m in \u001b[0;36mparse_config\u001b[0;34m()\u001b[0m\n\u001b[1;32m     15\u001b[0m             \u001b[0mrarities\u001b[0m \u001b[0;34m=\u001b[0m \u001b[0;34m[\u001b[0m\u001b[0mrandom\u001b[0m\u001b[0;34m.\u001b[0m\u001b[0mrandom\u001b[0m\u001b[0;34m(\u001b[0m\u001b[0;34m)\u001b[0m \u001b[0;32mfor\u001b[0m \u001b[0mx\u001b[0m \u001b[0;32min\u001b[0m \u001b[0mtraits\u001b[0m\u001b[0;34m]\u001b[0m\u001b[0;34m\u001b[0m\u001b[0;34m\u001b[0m\u001b[0m\n\u001b[1;32m     16\u001b[0m         \u001b[0;32melif\u001b[0m \u001b[0mtype\u001b[0m\u001b[0;34m(\u001b[0m\u001b[0mlayer\u001b[0m\u001b[0;34m[\u001b[0m\u001b[0;34m'rarity_weights'\u001b[0m\u001b[0;34m]\u001b[0m \u001b[0;34m==\u001b[0m \u001b[0;34m'list'\u001b[0m\u001b[0;34m)\u001b[0m\u001b[0;34m:\u001b[0m\u001b[0;34m\u001b[0m\u001b[0;34m\u001b[0m\u001b[0m\n\u001b[0;32m---> 17\u001b[0;31m             \u001b[0;32massert\u001b[0m\u001b[0;34m(\u001b[0m\u001b[0mlen\u001b[0m\u001b[0;34m(\u001b[0m\u001b[0mtraits\u001b[0m\u001b[0;34m)\u001b[0m \u001b[0;34m==\u001b[0m \u001b[0mlen\u001b[0m\u001b[0;34m(\u001b[0m\u001b[0mlayer\u001b[0m\u001b[0;34m[\u001b[0m\u001b[0;34m'rarity_weights'\u001b[0m\u001b[0;34m]\u001b[0m\u001b[0;34m)\u001b[0m\u001b[0;34m)\u001b[0m\u001b[0;34m\u001b[0m\u001b[0;34m\u001b[0m\u001b[0m\n\u001b[0m\u001b[1;32m     18\u001b[0m             \u001b[0mrarities\u001b[0m \u001b[0;34m=\u001b[0m \u001b[0mlayer\u001b[0m\u001b[0;34m[\u001b[0m\u001b[0;34m'rarity_weights'\u001b[0m\u001b[0;34m]\u001b[0m\u001b[0;34m\u001b[0m\u001b[0;34m\u001b[0m\u001b[0m\n\u001b[1;32m     19\u001b[0m         \u001b[0;32melse\u001b[0m\u001b[0;34m:\u001b[0m\u001b[0;34m\u001b[0m\u001b[0;34m\u001b[0m\u001b[0m\n",
      "\u001b[0;31mAssertionError\u001b[0m: "
     ]
    }
   ],
   "source": [
    "parse_config()"
   ]
  },
  {
   "cell_type": "code",
   "execution_count": 5,
   "id": "d249b4a0",
   "metadata": {},
   "outputs": [],
   "source": []
  },
  {
   "cell_type": "code",
   "execution_count": 3,
   "id": "e1d47e7a",
   "metadata": {},
   "outputs": [],
   "source": [
    "bg = Image.open('1.png')\n",
    "\n",
    "for i in range(2,6):\n",
    "    img = Image.open(str(i) + '.png')\n",
    "    bg.paste(img, (0,0), img)\n",
    "\n",
    "bg.show()"
   ]
  },
  {
   "cell_type": "code",
   "execution_count": 28,
   "id": "c384f50f",
   "metadata": {},
   "outputs": [],
   "source": [
    "bg.save('final.png')"
   ]
  },
  {
   "cell_type": "code",
   "execution_count": 18,
   "id": "6b054651",
   "metadata": {},
   "outputs": [
    {
     "name": "stdout",
     "output_type": "stream",
     "text": [
      "None\n"
     ]
    }
   ],
   "source": [
    "print(a)"
   ]
  },
  {
   "cell_type": "code",
   "execution_count": null,
   "id": "b1d16518",
   "metadata": {},
   "outputs": [],
   "source": []
  }
 ],
 "metadata": {
  "kernelspec": {
   "display_name": "Python 3",
   "language": "python",
   "name": "python3"
  },
  "language_info": {
   "codemirror_mode": {
    "name": "ipython",
    "version": 3
   },
   "file_extension": ".py",
   "mimetype": "text/x-python",
   "name": "python",
   "nbconvert_exporter": "python",
   "pygments_lexer": "ipython3",
   "version": "3.8.5"
  }
 },
 "nbformat": 4,
 "nbformat_minor": 5
}
